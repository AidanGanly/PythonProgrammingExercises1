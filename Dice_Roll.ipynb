{
 "cells": [
  {
   "cell_type": "markdown",
   "metadata": {},
   "source": [
    "# Task 1:  Simulate one dice roll in Python\n",
    "\n",
    "### Use well-named variable(s), constants(s), string(s), the random module\n",
    "\n",
    "### Show many test cases.\n",
    "\n",
    "### Annotate your notebook with markdown notes showing your understanding\n"
   ]
  },
  {
   "cell_type": "markdown",
   "metadata": {},
   "source": [
    "#### Using the randint from the random module:"
   ]
  },
  {
   "cell_type": "code",
   "execution_count": 49,
   "metadata": {},
   "outputs": [
    {
     "name": "stdout",
     "output_type": "stream",
     "text": [
      "You rolled a 2\n"
     ]
    }
   ],
   "source": [
    "from random import randint\n",
    "diceRoll = randint(1,6)\n",
    "print(\"You rolled a\",diceRoll)"
   ]
  },
  {
   "cell_type": "code",
   "execution_count": 50,
   "metadata": {},
   "outputs": [
    {
     "name": "stdout",
     "output_type": "stream",
     "text": [
      "You rolled a 6\n"
     ]
    }
   ],
   "source": [
    "from random import randint\n",
    "diceRoll = randint(1,6)\n",
    "print(\"You rolled a\",diceRoll)"
   ]
  },
  {
   "cell_type": "code",
   "execution_count": 51,
   "metadata": {},
   "outputs": [
    {
     "name": "stdout",
     "output_type": "stream",
     "text": [
      "You rolled a 4\n"
     ]
    }
   ],
   "source": [
    "from random import randint\n",
    "diceRoll = randint(1,6)\n",
    "print(\"You rolled a\",diceRoll)"
   ]
  },
  {
   "cell_type": "code",
   "execution_count": 52,
   "metadata": {},
   "outputs": [
    {
     "name": "stdout",
     "output_type": "stream",
     "text": [
      "You rolled a 2\n"
     ]
    }
   ],
   "source": [
    "from random import randint\n",
    "diceRoll = randint(1,6)\n",
    "print(\"You rolled a\",diceRoll)"
   ]
  },
  {
   "cell_type": "code",
   "execution_count": 53,
   "metadata": {},
   "outputs": [
    {
     "name": "stdout",
     "output_type": "stream",
     "text": [
      "You rolled a 2\n"
     ]
    }
   ],
   "source": [
    "from random import randint\n",
    "diceRoll = randint(1,6)\n",
    "print(\"You rolled a\",diceRoll)"
   ]
  },
  {
   "cell_type": "code",
   "execution_count": 54,
   "metadata": {},
   "outputs": [
    {
     "name": "stdout",
     "output_type": "stream",
     "text": [
      "You rolled a 3\n"
     ]
    }
   ],
   "source": [
    "from random import randint\n",
    "diceRoll = randint(1,6)\n",
    "print(\"You rolled a\",diceRoll)"
   ]
  },
  {
   "cell_type": "code",
   "execution_count": 55,
   "metadata": {},
   "outputs": [
    {
     "name": "stdout",
     "output_type": "stream",
     "text": [
      "You rolled a 5\n"
     ]
    }
   ],
   "source": [
    "from random import randint\n",
    "diceRoll = randint(1,6)\n",
    "print(\"You rolled a\",diceRoll)"
   ]
  },
  {
   "cell_type": "code",
   "execution_count": 67,
   "metadata": {},
   "outputs": [
    {
     "name": "stdout",
     "output_type": "stream",
     "text": [
      "You rolled a 4\n"
     ]
    }
   ],
   "source": [
    "from random import randint\n",
    "diceRoll = randint(1,6)\n",
    "print(\"You rolled a\",diceRoll)"
   ]
  },
  {
   "cell_type": "markdown",
   "metadata": {},
   "source": [
    "#### Using randrange from the random module:"
   ]
  },
  {
   "cell_type": "code",
   "execution_count": 57,
   "metadata": {},
   "outputs": [
    {
     "name": "stdout",
     "output_type": "stream",
     "text": [
      "You rolled a 2\n"
     ]
    }
   ],
   "source": [
    "from random import randrange\n",
    "diceRoll = randrange(1,7)\n",
    "print(\"You rolled a\",diceRoll)"
   ]
  },
  {
   "cell_type": "code",
   "execution_count": 58,
   "metadata": {},
   "outputs": [
    {
     "name": "stdout",
     "output_type": "stream",
     "text": [
      "You rolled a 2\n"
     ]
    }
   ],
   "source": [
    "from random import randrange\n",
    "diceRoll = randrange(1,7)\n",
    "print(\"You rolled a\",diceRoll)"
   ]
  },
  {
   "cell_type": "code",
   "execution_count": 59,
   "metadata": {},
   "outputs": [
    {
     "name": "stdout",
     "output_type": "stream",
     "text": [
      "You rolled a 3\n"
     ]
    }
   ],
   "source": [
    "from random import randrange\n",
    "diceRoll = randrange(1,7)\n",
    "print(\"You rolled a\",diceRoll)"
   ]
  },
  {
   "cell_type": "code",
   "execution_count": 60,
   "metadata": {},
   "outputs": [
    {
     "name": "stdout",
     "output_type": "stream",
     "text": [
      "You rolled a 4\n"
     ]
    }
   ],
   "source": [
    "from random import randrange\n",
    "diceRoll = randrange(1,7)\n",
    "print(\"You rolled a\",diceRoll)"
   ]
  },
  {
   "cell_type": "code",
   "execution_count": 61,
   "metadata": {},
   "outputs": [
    {
     "name": "stdout",
     "output_type": "stream",
     "text": [
      "You rolled a 1\n"
     ]
    }
   ],
   "source": [
    "from random import randrange\n",
    "diceRoll = randrange(1,7)\n",
    "print(\"You rolled a\",diceRoll)"
   ]
  },
  {
   "cell_type": "code",
   "execution_count": 62,
   "metadata": {},
   "outputs": [
    {
     "name": "stdout",
     "output_type": "stream",
     "text": [
      "You rolled a 5\n"
     ]
    }
   ],
   "source": [
    "from random import randrange\n",
    "diceRoll = randrange(1,7)\n",
    "print(\"You rolled a\",diceRoll)"
   ]
  },
  {
   "cell_type": "code",
   "execution_count": 63,
   "metadata": {},
   "outputs": [
    {
     "name": "stdout",
     "output_type": "stream",
     "text": [
      "You rolled a 6\n"
     ]
    }
   ],
   "source": [
    "from random import randrange\n",
    "diceRoll = randrange(1,7)\n",
    "print(\"You rolled a\",diceRoll)"
   ]
  },
  {
   "cell_type": "code",
   "execution_count": 64,
   "metadata": {},
   "outputs": [
    {
     "name": "stdout",
     "output_type": "stream",
     "text": [
      "You rolled a 6\n"
     ]
    }
   ],
   "source": [
    "from random import randrange\n",
    "diceRoll = randrange(1,7)\n",
    "print(\"You rolled a\",diceRoll)"
   ]
  },
  {
   "cell_type": "code",
   "execution_count": 65,
   "metadata": {},
   "outputs": [
    {
     "name": "stdout",
     "output_type": "stream",
     "text": [
      "You rolled a 3\n"
     ]
    }
   ],
   "source": [
    "from random import randrange\n",
    "diceRoll = randrange(1,7)\n",
    "print(\"You rolled a\",diceRoll)"
   ]
  }
 ],
 "metadata": {
  "kernelspec": {
   "display_name": "Python 3",
   "language": "python",
   "name": "python3"
  },
  "language_info": {
   "codemirror_mode": {
    "name": "ipython",
    "version": 3
   },
   "file_extension": ".py",
   "mimetype": "text/x-python",
   "name": "python",
   "nbconvert_exporter": "python",
   "pygments_lexer": "ipython3",
   "version": "3.5.2"
  }
 },
 "nbformat": 4,
 "nbformat_minor": 2
}
