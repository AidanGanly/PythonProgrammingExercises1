{
 "cells": [
  {
   "cell_type": "code",
   "execution_count": 49,
   "metadata": {},
   "outputs": [
    {
     "name": "stdout",
     "output_type": "stream",
     "text": [
      "Your random number is 9\n"
     ]
    }
   ],
   "source": [
    "#From the modoule random import the ranint (random interger)\n",
    "from random import randint\n",
    "\n",
    "#Create and set the variable number to a random interger within the boudaries 0 and 10\n",
    "number = randint(0, 10)\n",
    "\n",
    "#Print response\n",
    "print(\"Your random number is\",number)"
   ]
  },
  {
   "cell_type": "code",
   "execution_count": 34,
   "metadata": {},
   "outputs": [
    {
     "name": "stdout",
     "output_type": "stream",
     "text": [
      "Your random number is 10\n"
     ]
    }
   ],
   "source": [
    "#Import the random module\n",
    "import random\n",
    "\n",
    "#Create and set the variable number to a random interger within the boudaries 0 and 10\n",
    "number = random.randint(0, 10)\n",
    "\n",
    "#Print response\n",
    "print(\"Your random number is\",number)"
   ]
  },
  {
   "cell_type": "code",
   "execution_count": 71,
   "metadata": {},
   "outputs": [
    {
     "name": "stdout",
     "output_type": "stream",
     "text": [
      "Your random number is 2\n"
     ]
    }
   ],
   "source": [
    "#From the modoule random import the randrange (random range)\n",
    "from random import randrange\n",
    "\n",
    "#Create and set the variable number to a random multiple of 2 (step) within the boudaries 0 and 10\n",
    "number = randrange(0,10,2)\n",
    "\n",
    "#Print response\n",
    "print(\"Your random number is\",number)"
   ]
  }
 ],
 "metadata": {
  "kernelspec": {
   "display_name": "Python 3",
   "language": "python",
   "name": "python3"
  },
  "language_info": {
   "codemirror_mode": {
    "name": "ipython",
    "version": 3
   },
   "file_extension": ".py",
   "mimetype": "text/x-python",
   "name": "python",
   "nbconvert_exporter": "python",
   "pygments_lexer": "ipython3",
   "version": "3.5.2"
  }
 },
 "nbformat": 4,
 "nbformat_minor": 2
}
